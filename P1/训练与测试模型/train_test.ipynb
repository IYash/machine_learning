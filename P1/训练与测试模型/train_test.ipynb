{
 "cells": [
  {
   "cell_type": "markdown",
   "metadata": {},
   "source": [
    "##  训练与测试模型 ##\n",
    "> classifier.fit(x,y) <br>\n",
    "> train , test, evaluate and validate model <br>\n",
    "### 逻辑回归 ###\n",
    "> from sklearn.linear_model import LogisticRegression <br>\n",
    "> classifier = LogisticRegression()\n",
    "### 神经网络 ###\n",
    "> from sklearn.neural_network import MLPClassifier <br>\n",
    "> classifier = MLPClassifier()\n",
    "### 决策树 ###\n",
    "> from sklearn.ensemble import GradientBoostingClassifier <br>\n",
    "> classifier = GradientBoostingClassifier()\n",
    "### 支持向量机 ###\n",
    "> from sklearn.svm import SVC <br>\n",
    "> classifier = SVC()\n"
   ]
  },
  {
   "cell_type": "markdown",
   "metadata": {},
   "source": [
    "## 参数 ##\n",
    "> classifier定义时可以调整参数\n",
    "- Kernel:linear(线性)，poly(多项式)，rbf(高斯核)\n",
    "- degree:(整型)：多项式内核的次数（如果选择了多项式内核）\n",
    "- gamma(浮点型): y参数 （值越大分割越明显）\n",
    "- C(浮点型):C参数"
   ]
  },
  {
   "cell_type": "markdown",
   "metadata": {},
   "source": [
    "### REGRESSIONN AND CLASSIFICATION ###\n",
    "- Regression returns a numeric value\n",
    "![Aaron Swartz](https://github.com/IYash/machine_learning/raw/master/markdownPhoto/regression_desc.png)\n",
    "- ClassiFication returns a state\n",
    "![Aaron Swartz](https://github.com/IYash/machine_learning/raw/master/markdownPhoto/classifaction_desc.png)\n",
    "\n"
   ]
  },
  {
   "cell_type": "markdown",
   "metadata": {},
   "source": [
    "### 过拟合和泛化能力 ###\n",
    "- 过拟合指的是为了完美的拟合测试样本，而失去泛化能力，即对新的样本来说偏差较大\n",
    "> 将数据分为训练集和测试集，通过在训练集中训练的模型，在测试集中测试结果\n",
    "- 如何选择更好的训练模型\n",
    "\n",
    "> 通过测试集测试，error少的可认为是叫好的模型\n",
    "\n",
    "![Aaron Swartz](https://github.com/IYash/machine_learning/raw/master/markdownPhoto/test_model.png)\n",
    "- scikit-learn中的处理方式\n",
    "> train_test_split，测试集一定不要用于训练"
   ]
  },
  {
   "cell_type": "markdown",
   "metadata": {},
   "source": [
    "### sklearn的使用方式 ###\n",
    "\n",
    "> 使用sklearn可以轻松地将数据集拆分为训数据和测试数据。只需要输入train_test_split命令。该函数获得输入X和y，然后返 回四项内容 <br>\n",
    "\n",
    "- X_train:训练输入数据\n",
    "- X_test:测试输入数据\n",
    "- y_train:训练标签\n",
    "- y_test:测试标签\n",
    "<br>\n",
    "该函数的调用如下所示：<br>\n",
    "from sklearn.model_selection(具体的模型如：cross_validation) import train_test_split <br>\n",
    "X_train,X_test,y_train,y_test = train_test_split(X,y,test_size=0.25)<br>\n",
    "![Aaron Swartz](https://github.com/IYash/machine_learning/raw/master/markdownPhoto/train_test_split.png)\n",
    "\n"
   ]
  }
 ],
 "metadata": {
  "kernelspec": {
   "display_name": "Python 3",
   "language": "python",
   "name": "python3"
  },
  "language_info": {
   "codemirror_mode": {
    "name": "ipython",
    "version": 3
   },
   "file_extension": ".py",
   "mimetype": "text/x-python",
   "name": "python",
   "nbconvert_exporter": "python",
   "pygments_lexer": "ipython3",
   "version": "3.6.5"
  }
 },
 "nbformat": 4,
 "nbformat_minor": 2
}
