{
 "cells": [
  {
   "cell_type": "markdown",
   "metadata": {},
   "source": [
    "### 错误类型 ###\n",
    "\n",
    "> 欠拟合和过拟合的情况（过拟合实际上是在记住训练集）\n",
    "\n",
    "![Aaron Swartz](https://github.com/IYash/machine_learning/raw/master/markdownPhoto/tradeoff.png)"
   ]
  },
  {
   "cell_type": "markdown",
   "metadata": {},
   "source": [
    "### 模型复杂度图表 ###\n",
    "> 简单就理解成degree，不同的degree会出现欠拟合，正常或者过拟合的情形\n",
    "可以结合图表分析训练集和测试集的错误情况特征\n",
    "注意不要将测试集用于训练，交叉验证（简单说就是将数据分的更细了，如可以用于调整degree）\n",
    "\n",
    "![Aaron Swartz](https://github.com/IYash/machine_learning/raw/master/markdownPhoto/model_complexity_graph.png)"
   ]
  },
  {
   "cell_type": "markdown",
   "metadata": {},
   "source": [
    "### K折交叉验证 ###\n",
    "> 为了循环使用数据，将数据进行分组，每次选择其中的一个作为测试集，剩余的座位训练集\n",
    "from sklearn.model_selection import KFold<br>\n",
    "kf = KFold(12,3) 将3个数据作为测试集，通过shuffle=True进行随机分组<br>\n",
    "for train_indices,test_indices in kf:<br>\n",
    "    print train_indices,test_indices 用于观察kf<br>"
   ]
  },
  {
   "cell_type": "markdown",
   "metadata": {},
   "source": [
    "### learning_curve ###\n",
    "> train_sizes,train_scores,test_scores = learning_curve(estimator,X,y,cv=None,n_jobs =1,train_sizes = np.linspace(.1,1.0,num_trainings))\n",
    "\n",
    "> 参数解释\n",
    "\n",
    "- estimator,是我们针对数据使用的实际分类器，例如LogisticRegression()或GradientBoostingClassifier()\n",
    "- X和y是我们的数据，分表表示特征和标签\n",
    "- train_sizes是用来在曲线上绘制每个点的数据大小\n",
    "- train_scores是针对每组数据进行训练后的算法训练得分\n",
    "- test_scores是针对每组数据进行训练后的算法测试得分"
   ]
  },
  {
   "cell_type": "markdown",
   "metadata": {},
   "source": [
    "### 在sklearn中的网格搜索 ###\n",
    "> 在sklearn中的网格搜索非常简单。假设我们想要驯良支持向量机，并且我们在以下参数之间做出决定：\n",
    "\n",
    "- kernel:poly 或rbf\n",
    "- C:0.1,1或10\n",
    "\n",
    "> 1.导入GridSearchCV<br>\n",
    "  from sklearn.model_selection import GridSearchCV<br>\n",
    "  2.选择参数：<br>\n",
    "  现在我们来选择想要选择的参数，并形成一个字典。在这个字典中，键（keys）将是参数的名称，值(values)将是每个参数可能值的列表<br>\n",
    "  parameters = {'kernel':['poly','rbf'],'C':[0.1,1,10]}<br>\n",
    "  3.创建一个评分机制（scorer）<br>\n",
    "  我们需要确认将使用什么指标来为每个候选模型评分。这里，我们将使用F1分数<br>\n",
    "  from sklearn.metrics import make_scorer<br>\n",
    "  from sklearn.metrics import f1_score<br>\n",
    "  scorer = make_scorer(f1_score)<br>\n",
    "  4.使用参数（parameter）和评分机制(scorer)创建一个GridSearch对象。使用此对象与数据保持一致（fit the data）<br>\n",
    "  grid_obj = GridSearchCV(clf,parameters,scoring=scorer)<br>\n",
    "  gird_fit = grid_obj.fit(X,y)<br>\n",
    "  5.获得最佳估算器estimator<br>\n",
    "  best_clf = grid_fit.best_estimator_\n",
    "  "
   ]
  },
  {
   "cell_type": "code",
   "execution_count": null,
   "metadata": {},
   "outputs": [],
   "source": []
  }
 ],
 "metadata": {
  "kernelspec": {
   "display_name": "Python 3",
   "language": "python",
   "name": "python3"
  },
  "language_info": {
   "codemirror_mode": {
    "name": "ipython",
    "version": 3
   },
   "file_extension": ".py",
   "mimetype": "text/x-python",
   "name": "python",
   "nbconvert_exporter": "python",
   "pygments_lexer": "ipython3",
   "version": "3.6.5"
  }
 },
 "nbformat": 4,
 "nbformat_minor": 2
}
