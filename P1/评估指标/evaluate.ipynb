{
 "cells": [
  {
   "cell_type": "markdown",
   "metadata": {},
   "source": [
    "### 混淆矩阵 ###\n",
    "\n",
    "> 是对一个事物真实状态和判断状态的矩阵，对于2状态而言就会产生2*2的一个矩阵\n",
    "\n",
    "![Aaron Swartz](https://github.com/IYash/machine_learning/raw/master/markdownPhoto/confusion_matrix.png)"
   ]
  },
  {
   "cell_type": "markdown",
   "metadata": {},
   "source": [
    "### 准确率 accuracy###\n",
    "\n",
    "> 是一个统计的结果，比如说对于一个医生就诊病号的例子，可能出现如下的情形：\n",
    "\n",
    "- 病号健康，确诊为健康（TRUE NEGATIVE）真负例\n",
    "- 病号不健康，确诊为健康（FALSE NEGATIVE）假负例\n",
    "- 病号健康，确诊为不健康（FALSE POSITIVE）假正例\n",
    "- 病号不健康，确诊为不健康（TRUE POSITIVE）真正例\n",
    "\n",
    "准确率就可以基于上述情形的实际分布得出"
   ]
  },
  {
   "cell_type": "markdown",
   "metadata": {},
   "source": [
    "### 精度 precision###\n",
    "\n",
    "> 描述的是对于关心的维度的指标\n",
    "如准确率中描述的情况，我们更关心的是确诊出更多的不健康的情形（健康被确诊为不健康是可以接受的），则精度就可以表示为  TP/（TP+FP）\n"
   ]
  },
  {
   "cell_type": "markdown",
   "metadata": {},
   "source": [
    "### 召回 recall ###\n",
    "\n",
    "> 描述的是对于期望和不可接受condition的一种关系\n",
    "如准确率中描述的情况，召回就可以表示为 TP/(TP+FN)\n",
    "\n",
    "这时是希望一个高的召回，但有时也会希望一个低的召回如垃圾邮件模型，只是希望可以过滤一部分垃圾邮件，但不能接受的是错过正常的邮件"
   ]
  },
  {
   "cell_type": "markdown",
   "metadata": {},
   "source": [
    "### F1得分 （调和平均数）###\n",
    "\n",
    "> 调和平均数用于描述精度和召回的关系 F1 SCORE =2⊙Precious⊙Recall/(Precious+Recall)\n",
    "\n"
   ]
  },
  {
   "cell_type": "markdown",
   "metadata": {},
   "source": [
    "### Fβ得分 ###\n",
    "\n",
    "> β<1靠近精度，β靠近召回\n",
    "\n",
    "FβSCORE = (1+β⊙β)(Precious⊙Recall)/(β⊙Precious+Recall)\n",
    "\n",
    "- 对于宇宙飞船，我们不允许出现任何故障零件，可以检查本身能正常运转的零件。因此，这是一个高召回率模型，因此 β = 2。\n",
    "- 对于通知模型，因为是免费发送给客户，如果向更多的用户发送邮件也无害。但是也不能太过了，因为可能会惹怒用户。我们还希望找到尽可能多感兴趣的用户。因此，这个模型应该具有合适的精度和合适的召回率。β = 1 应该可行。\n",
    "- 对于免费样品模型，因为寄送样品需要成本，我们不希望向不感兴趣的用户寄送样品。因此是个高精度模型。β = 0.5 应该可行。\n",
    "\n",
    "> Fβ得分限界，β在0到∞之间：\n",
    "- 如果 β=0, 则得出精度。\n",
    "- 如果 β=∞, 则得出召回率。\n",
    "- 对于 β的其他值，如果接近 0，则得出接近精度的值，如果很大，则得出接近召回率的值，如果 β=1, 则得出精度和召回率的调和平均数。"
   ]
  },
  {
   "cell_type": "markdown",
   "metadata": {},
   "source": [
    "### ROC曲线 ###\n",
    "\n",
    "> 描述的是TPR和FPR的元组\n",
    "- TPR = TRUE POSITIVES/ALL POSITIVES\n",
    "- FPR = FALSE POSITIVES/ALL POSITIVES\n",
    "\n",
    "![Aaron Swartz](https://github.com/IYash/machine_learning/raw/master/markdownPhoto/roc_curve.png)"
   ]
  },
  {
   "cell_type": "markdown",
   "metadata": {},
   "source": [
    "### 回归指标 ###\n",
    "- 绝对误差\n",
    "\n",
    "> from sklearn.metrics import mean_absolute_error<br>\n",
    "  from sklearn.linear_model import LinearRegression<br>\n",
    "  classifier = LinearRegression()<br>\n",
    "  classifier.fit(X,y)<br>\n",
    "  guesses = classifier.predict(X)<br>\n",
    "  error = mean_absolute_error(y,guesses)\n",
    "\n",
    "- 均方误差\n",
    "\n",
    "> from sklearn.metrics import mean_squared_error<br>\n",
    " from sklearn.linear_model import LinearRegression<br>\n",
    " classifier = LinearRegression()<br>\n",
    " classifier.fit(X,y)<br>\n",
    " guess = classifier.predict(X)<br>\n",
    " error = mean_squared_error(y,guess)\n",
    "\n",
    "- R2 Score\n",
    "\n",
    "> 简单的模型是通过计算各点的平均值，然后以平均值构造一条直线，容易知道均方误差较大的；与线性回归模型比较\n",
    "  from sklearn.metrics import r2_score\n",
    "  y_true = [1,2,4]\n",
    "  y_pred = [1.3,2.5,3.7]\n",
    "  r2_score(y_true,y_pred)\n",
    "  \n",
    "![Aaron Swartz](https://github.com/IYash/machine_learning/raw/master/markdownPhoto/r2_score.png)\n"
   ]
  },
  {
   "cell_type": "code",
   "execution_count": null,
   "metadata": {},
   "outputs": [],
   "source": []
  }
 ],
 "metadata": {
  "kernelspec": {
   "display_name": "Python 3",
   "language": "python",
   "name": "python3"
  },
  "language_info": {
   "codemirror_mode": {
    "name": "ipython",
    "version": 3
   },
   "file_extension": ".py",
   "mimetype": "text/x-python",
   "name": "python",
   "nbconvert_exporter": "python",
   "pygments_lexer": "ipython3",
   "version": "3.6.5"
  }
 },
 "nbformat": 4,
 "nbformat_minor": 2
}
